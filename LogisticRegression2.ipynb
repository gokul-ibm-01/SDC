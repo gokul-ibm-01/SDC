{
  "nbformat": 4,
  "nbformat_minor": 0,
  "metadata": {
    "colab": {
      "provenance": []
    },
    "kernelspec": {
      "name": "python3",
      "display_name": "Python 3"
    },
    "language_info": {
      "name": "python"
    }
  },
  "cells": [
    {
      "cell_type": "code",
      "execution_count": 1,
      "metadata": {
        "id": "ivBVUptfQuIT",
        "colab": {
          "base_uri": "https://localhost:8080/",
          "height": 759
        },
        "outputId": "58294d05-9b8b-4538-cb97-17bf175ef000"
      },
      "outputs": [
        {
          "output_type": "stream",
          "name": "stdout",
          "text": [
            "\u001b[2K   \u001b[90m━━━━━━━━━━━━━━━━━━━━━━━━━━━━━━━━━━━━━━━━\u001b[0m \u001b[32m46.9/46.9 MB\u001b[0m \u001b[31m10.7 MB/s\u001b[0m eta \u001b[36m0:00:00\u001b[0m\n",
            "\u001b[2K   \u001b[90m━━━━━━━━━━━━━━━━━━━━━━━━━━━━━━━━━━━━━━━━\u001b[0m \u001b[32m322.2/322.2 kB\u001b[0m \u001b[31m10.7 MB/s\u001b[0m eta \u001b[36m0:00:00\u001b[0m\n",
            "\u001b[2K   \u001b[90m━━━━━━━━━━━━━━━━━━━━━━━━━━━━━━━━━━━━━━━━\u001b[0m \u001b[32m95.2/95.2 kB\u001b[0m \u001b[31m2.1 MB/s\u001b[0m eta \u001b[36m0:00:00\u001b[0m\n",
            "\u001b[2K   \u001b[90m━━━━━━━━━━━━━━━━━━━━━━━━━━━━━━━━━━━━━━━━\u001b[0m \u001b[32m11.4/11.4 MB\u001b[0m \u001b[31m23.8 MB/s\u001b[0m eta \u001b[36m0:00:00\u001b[0m\n",
            "\u001b[2K   \u001b[90m━━━━━━━━━━━━━━━━━━━━━━━━━━━━━━━━━━━━━━━━\u001b[0m \u001b[32m72.0/72.0 kB\u001b[0m \u001b[31m1.6 MB/s\u001b[0m eta \u001b[36m0:00:00\u001b[0m\n",
            "\u001b[2K   \u001b[90m━━━━━━━━━━━━━━━━━━━━━━━━━━━━━━━━━━━━━━━━\u001b[0m \u001b[32m62.4/62.4 kB\u001b[0m \u001b[31m2.5 MB/s\u001b[0m eta \u001b[36m0:00:00\u001b[0m\n",
            "\u001b[?25hIt looks like you are running Gradio on a hosted a Jupyter notebook. For the Gradio app to work, sharing must be enabled. Automatically setting `share=True` (you can turn this off by setting `share=False` in `launch()` explicitly).\n",
            "\n",
            "Colab notebook detected. To show errors in colab notebook, set debug=True in launch()\n",
            "* Running on public URL: https://a881917ccbd8e1e0f3.gradio.live\n",
            "\n",
            "This share link expires in 1 week. For free permanent hosting and GPU upgrades, run `gradio deploy` from the terminal in the working directory to deploy to Hugging Face Spaces (https://huggingface.co/spaces)\n"
          ]
        },
        {
          "output_type": "display_data",
          "data": {
            "text/plain": [
              "<IPython.core.display.HTML object>"
            ],
            "text/html": [
              "<div><iframe src=\"https://a881917ccbd8e1e0f3.gradio.live\" width=\"100%\" height=\"500\" allow=\"autoplay; camera; microphone; clipboard-read; clipboard-write;\" frameborder=\"0\" allowfullscreen></iframe></div>"
            ]
          },
          "metadata": {}
        },
        {
          "output_type": "execute_result",
          "data": {
            "text/plain": []
          },
          "metadata": {},
          "execution_count": 1
        }
      ],
      "source": [
        "# 📦 Install dependencies\n",
        "!pip install -q gradio scikit-learn pandas\n",
        "\n",
        "# ✅ Import Libraries\n",
        "import gradio as gr\n",
        "import pandas as pd\n",
        "from sklearn.linear_model import LogisticRegression\n",
        "from sklearn.model_selection import train_test_split\n",
        "\n",
        "# 🧪 Sample Dataset\n",
        "data = {\n",
        "    'Area': [1000, 1500, 2000, 2500, 3000, 1800, 2200, 1200, 2600, 3100],\n",
        "    'Bedrooms': [2, 3, 3, 4, 4, 3, 3, 2, 4, 5],\n",
        "    'Bathrooms': [1, 2, 2, 3, 3, 2, 2, 1, 3, 4],\n",
        "    'Price': [100000, 150000, 200000, 250000, 300000, 180000, 220000, 120000, 260000, 310000]\n",
        "}\n",
        "\n",
        "df = pd.DataFrame(data)\n",
        "\n",
        "# 💡 Add a binary label: 1 = Price is reasonable, 0 = Too high/low\n",
        "# For demo, if price is within ±10% of expected price, we call it \"reasonable\"\n",
        "df['Expected'] = df['Price']\n",
        "df['Price_Check'] = 1  # Default all reasonable\n",
        "\n",
        "# Create \"bad\" examples: add 20% noise to simulate unreasonable prices\n",
        "df_extra = df.copy()\n",
        "df_extra['Price'] = df_extra['Price'] * 1.3  # 30% higher = unreasonable\n",
        "df_extra['Price_Check'] = 0\n",
        "\n",
        "df = pd.concat([df, df_extra], ignore_index=True)\n",
        "\n",
        "# 🧠 Train Logistic Regression Model\n",
        "X = df[['Area', 'Bedrooms', 'Bathrooms', 'Price']]\n",
        "y = df['Price_Check']\n",
        "\n",
        "X_train, X_test, y_train, y_test = train_test_split(X, y, test_size=0.2, random_state=42)\n",
        "model = LogisticRegression()\n",
        "model.fit(X_train, y_train)\n",
        "\n",
        "# 🔍 Prediction Function\n",
        "def check_price(area, bedrooms, bathrooms, price):\n",
        "    input_data = [[area, bedrooms, bathrooms, price]]\n",
        "    pred = model.predict(input_data)[0]\n",
        "    return \"✅ Reasonable Price\" if pred == 1 else \"❌ Unreasonable Price\"\n",
        "\n",
        "# 🎛️ Gradio Interface\n",
        "iface = gr.Interface(\n",
        "    fn=check_price,\n",
        "    inputs=[\n",
        "        gr.Number(label=\"Area (sq ft)\"),\n",
        "        gr.Number(label=\"Bedrooms\"),\n",
        "        gr.Number(label=\"Bathrooms\"),\n",
        "        gr.Number(label=\"Proposed Price ($)\")\n",
        "    ],\n",
        "    outputs=\"text\",\n",
        "    title=\"🏠 House Price Reasonability Checker\",\n",
        "    description=\"Enter house details and a price to check if it's reasonable using Logistic Regression.\"\n",
        ")\n",
        "\n",
        "# 🚀 Launch App\n",
        "iface.launch()\n"
      ]
    }
  ]
}